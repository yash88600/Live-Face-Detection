{
 "cells": [
  {
   "cell_type": "code",
   "execution_count": 1,
   "metadata": {},
   "outputs": [],
   "source": [
    "import cv2\n",
    "import numpy as np"
   ]
  },
  {
   "cell_type": "code",
   "execution_count": 2,
   "metadata": {},
   "outputs": [],
   "source": [
    "#note- \" haarcascade_frontalface_default.xml \" comes pre installed with openCV\n",
    "face_cascade = cv2.CascadeClassifier('C:\\\\Users\\\\YASH\\\\Anaconda3\\\\Lib\\\\site-packages\\\\cv2\\\\data\\\\haarcascade_frontalface_default.xml')"
   ]
  },
  {
   "cell_type": "code",
   "execution_count": 3,
   "metadata": {},
   "outputs": [],
   "source": [
    "vid=cv2.VideoCapture(0) # to trigger the web cam\n",
    "\n",
    "while True:\n",
    "    \n",
    "    check,frame=vid.read()\n",
    "    grey=frame\n",
    "    faces=face_cascade.detectMultiScale(grey,scaleFactor=1.05,minNeighbors=5)\n",
    "    for x,y,w,h in faces:\n",
    "        grey=cv2.rectangle(grey,(x,y),(x+w,y+h),(0,255,0),3) # to draw the rectangle around face\n",
    "        \n",
    "    cv2.imshow(\"a\",grey)    # to display\n",
    "    key=cv2.waitKey(10)   # takes a key as a input\n",
    "    if (key==ord('q')):  # if the input key is 'q' then the loop will break and program will stop\n",
    "        break;\n",
    "\n",
    "vid.release()\n",
    "cv2.destroyAllWindows()"
   ]
  },
  {
   "cell_type": "code",
   "execution_count": null,
   "metadata": {},
   "outputs": [],
   "source": []
  }
 ],
 "metadata": {
  "kernelspec": {
   "display_name": "Python 3",
   "language": "python",
   "name": "python3"
  },
  "language_info": {
   "codemirror_mode": {
    "name": "ipython",
    "version": 3
   },
   "file_extension": ".py",
   "mimetype": "text/x-python",
   "name": "python",
   "nbconvert_exporter": "python",
   "pygments_lexer": "ipython3",
   "version": "3.7.4"
  }
 },
 "nbformat": 4,
 "nbformat_minor": 2
}
